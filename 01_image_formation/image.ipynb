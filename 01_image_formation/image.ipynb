{
 "metadata": {
  "language_info": {
   "codemirror_mode": {
    "name": "ipython",
    "version": 3
   },
   "file_extension": ".py",
   "mimetype": "text/x-python",
   "name": "python",
   "nbconvert_exporter": "python",
   "pygments_lexer": "ipython3",
   "version": "3.7.7"
  },
  "orig_nbformat": 2,
  "kernelspec": {
   "name": "python377jvsc74a57bd035a7997725faad40f087243f8c6d6ebbb08f100d8f95e1889e31bf95f4d5c47b",
   "display_name": "Python 3.7.7 64-bit ('pytorch_env': conda)"
  }
 },
 "nbformat": 4,
 "nbformat_minor": 2,
 "cells": [
  {
   "cell_type": "code",
   "execution_count": 1,
   "metadata": {},
   "outputs": [],
   "source": [
    "# 외부 모듈 선언\n",
    "import turtle                                # 그래픽 처리를 위한 모듈\n",
    "import numpy as np                           # 벡터, 행렬 데이터를 쉽게 처리하기 위한 모듈"
   ]
  },
  {
   "cell_type": "code",
   "execution_count": 2,
   "metadata": {},
   "outputs": [],
   "source": [
    "# 데이터 - 41쪽 그림 (c)의 도형을 나타내는 이미지 데이터 행렬\n",
    "myImg = np.array([[0, 0, 0, 0, 0, 0, 0, 0],\\\n",
    "                  [0, 1, 1, 1, 0, 0, 0, 0],\\\n",
    "                  [1, 1, 1, 1, 1, 0, 0, 0],\\\n",
    "                  [1, 1, 1, 1, 1, 0, 0, 0],\\\n",
    "                  [0, 1, 1, 1, 0, 0, 0, 0],\\\n",
    "                  [0, 0, 0, 0, 0, 0, 0, 0],\\\n",
    "                  [0, 0, 0, 0, 0, 0, 0, 0],\\\n",
    "                  [0, 0, 0, 0, 0, 0, 0, 0]])\n",
    "\n",
    "pixelSize = 10                                 # pixel 사이즈의 반지름"
   ]
  },
  {
   "cell_type": "code",
   "execution_count": 3,
   "metadata": {},
   "outputs": [],
   "source": [
    "# (x,y) 위치에 pSize 크기의 픽셀을 pCol 색으로 그리는 함수\n",
    "def putPixel(x, y, pSize, pCol):               # 메인 소스 코드에서 호출하는 픽셀 채우기 함수\n",
    "    turtle.penup()                             # 좌표 이동을 위해 펜기능을 비활성화   \n",
    "    turtle.goto(x*pSize,(-1)*y*pSize)          # 주어진 좌표로 이동\n",
    "    turtle.pendown()                           # 펜기능을 다시 활성화\n",
    "    turtle.begin_fill()                        # 다각형을 그릴 때 내부를 채우기\n",
    "    turtle.fillcolor(pCol)                     # 다각형의 채움색 설정하기\n",
    "    turtle.setheading(45)                      # 시작 각도를 45도로 지정\n",
    "    turtle.circle(pSize/2, steps = 4)          # 정사각형 픽셀 도출하기\n",
    "    turtle.end_fill()                          # 채우기 끝"
   ]
  },
  {
   "cell_type": "code",
   "execution_count": 4,
   "metadata": {},
   "outputs": [],
   "source": [
    "for j in range (0, 8) :                        # 이미지의 행벡터(Xj)를 방문하기\n",
    "    for i in range (0, 8) :                    # Xj의 각 성분 Xji를 하나씩 방문하기\n",
    "        if (myImg[j][i] > 0) :                 # 2차원 행렬 벡터 성분 Xji의 값을 확인하기\n",
    "            putPixel(i,j,pixelSize, \"orange\")  # Xji > 0 인 경우 오렌지색 칠하기\n",
    "        else:\n",
    "            putPixel(i,j,pixelSize, \"white\")   # Xji <= 0 인 경우 흰색 칠하기"
   ]
  },
  {
   "cell_type": "code",
   "execution_count": null,
   "metadata": {},
   "outputs": [],
   "source": []
  }
 ]
}